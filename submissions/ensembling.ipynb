{
 "cells": [
  {
   "cell_type": "code",
   "execution_count": null,
   "metadata": {
    "collapsed": true
   },
   "outputs": [],
   "source": [
    "import pandas as pd"
   ]
  },
  {
   "cell_type": "code",
   "execution_count": null,
   "metadata": {
    "collapsed": false
   },
   "outputs": [],
   "source": [
    "df0 = pd.read_csv('folds/fold0.csv')\n",
    "df1 = pd.read_csv('folds/fold1.csv')\n",
    "df2 = pd.read_csv('folds/fold2.csv')\n",
    "\n",
    "dfx = pd.read_csv('folds/f_012.csv')\n",
    "dfy = pd.read_csv('experiment_submissions/subm_1_2_3_5_6.csv')\n",
    "\n",
    "df = df0.copy()"
   ]
  },
  {
   "cell_type": "markdown",
   "metadata": {},
   "source": [
    "Individual scores:\n",
    " 1. 06-03-01-23    logloss = [0.46109]  method=vgg16, epoch=20\n",
    " 2. 06-03-02-17    logloss = [0.57614]  method=vgg16, epoch=20\n",
    " 3. 06-04-21-07    logloss = [0.52423]  method=vgg16, epoch=12, data augmentation\n",
    " 4. 06-04-23-44    logloss = [0.71747]  method=vgg16, epoch=12, data augmentation\n",
    " 5. 06-08-21-44    logloss = [0.39380]  method=vgg16, epoch=15, data augmentation\n",
    " 6. 06-08-21-48    logloss = [0.54492]  method=vgg16, epoch=15, data augmentation\n",
    " \n",
    "Combined:\n",
    " 1. [1] + [2] logloss = [0.34259]\n",
    " 2. [3] + [4] logloss = [0.37256]\n",
    " 3. [1] + [2] + [3] + [4] logloss = [0.27938]\n",
    " 4. [1]+[2]+[3]+[4]+[5]+[6] logloss = [0.25357]\n",
    " 5. [1]+[2]+[3]+[5]+[6] logloss = []\n"
   ]
  },
  {
   "cell_type": "code",
   "execution_count": null,
   "metadata": {
    "collapsed": true
   },
   "outputs": [],
   "source": [
    "f = lambda x,i: x['c'+str(i)]"
   ]
  },
  {
   "cell_type": "code",
   "execution_count": null,
   "metadata": {
    "collapsed": false
   },
   "outputs": [],
   "source": [
    "for i in range(0, 10):\n",
    "    df['c{}'.format(i)] = [\n",
    "        (x+y)/2. \n",
    "        for \n",
    "          x,y\n",
    "        in \n",
    "        zip(f(dfx,i), f(dfy,i))\n",
    "    ]"
   ]
  },
  {
   "cell_type": "code",
   "execution_count": null,
   "metadata": {
    "collapsed": false
   },
   "outputs": [],
   "source": [
    "df.to_csv('f_012_12356.csv', index=False)"
   ]
  },
  {
   "cell_type": "code",
   "execution_count": null,
   "metadata": {
    "collapsed": false
   },
   "outputs": [],
   "source": [
    "df"
   ]
  }
 ],
 "metadata": {
  "kernelspec": {
   "display_name": "Python 2",
   "language": "python",
   "name": "python2"
  },
  "language_info": {
   "codemirror_mode": {
    "name": "ipython",
    "version": 2
   },
   "file_extension": ".py",
   "mimetype": "text/x-python",
   "name": "python",
   "nbconvert_exporter": "python",
   "pygments_lexer": "ipython2",
   "version": "2.7.11+"
  }
 },
 "nbformat": 4,
 "nbformat_minor": 0
}
